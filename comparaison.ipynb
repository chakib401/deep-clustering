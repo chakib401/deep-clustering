{
 "cells": [
  {
   "cell_type": "code",
   "execution_count": 23,
   "outputs": [],
   "source": [
    "import tensorflow as tf\n",
    "import numpy as np\n",
    "import pandas as pd\n",
    "from models.deep_km import DeepKMeansAutoEncoder\n",
    "from models.deep_spectral_clustering import DeepSpectralClusteringAutoEncoder\n",
    "from models.utils import clustering_accuracy"
   ],
   "metadata": {
    "collapsed": false,
    "pycharm": {
     "name": "#%%\n",
     "is_executing": false
    }
   }
  },
  {
   "cell_type": "code",
   "execution_count": 24,
   "metadata": {
    "collapsed": true,
    "pycharm": {
     "is_executing": false
    }
   },
   "outputs": [],
   "source": [
    "train, _ = tf.keras.datasets.mnist.load_data()\n",
    "x_train, y_train = train\n",
    "x_train, y_train = x_train[:100], y_train[:100]\n",
    "x_train = x_train.reshape((-1, 784))\n",
    "x_train = x_train/255"
   ]
  },
  {
   "cell_type": "code",
   "execution_count": 25,
   "outputs": [],
   "source": [
    "runs = 5\n",
    "accuracy_dict = {\"accuracy:mean\":[], \"accuracy:std\":[]}\n",
    "names = []"
   ],
   "metadata": {
    "collapsed": false,
    "pycharm": {
     "name": "#%%\n",
     "is_executing": false
    }
   }
  },
  {
   "cell_type": "code",
   "execution_count": 26,
   "outputs": [
    {
     "name": "stdout",
     "text": [
      "Run 1/5\n",
      "Run 2/5\n",
      "Run 3/5\n",
      "Run 4/5\n",
      "Run 5/5\n"
     ],
     "output_type": "stream"
    }
   ],
   "source": [
    "accuracies = [] \n",
    "for run in range(runs):\n",
    "    print(\"Run %d/%d\" % (run+1, runs))\n",
    "    deep_km = DeepKMeansAutoEncoder(784, lmbda=1e-2)\n",
    "    deep_km.compile(optimizer=\"adam\", loss=lambda x, y: tf.zeros(784))\n",
    "    deep_km.pre_train(x_train, batch_size=256, epochs=50, verbose=0)\n",
    "    deep_km.train(x_train, batch_size=256, epochs=10, verbose=0)\n",
    "    accuracies.append(clustering_accuracy(y_train, deep_km.assignments))\n",
    "accuracy_dict['accuracy:mean'].append(np.mean(accuracies))\n",
    "accuracy_dict['accuracy:std'].append(np.std(accuracies))\n",
    "names.append('Deep K-Means')"
   ],
   "metadata": {
    "collapsed": false,
    "pycharm": {
     "name": "#%%\n",
     "is_executing": false
    }
   }
  },
  {
   "cell_type": "code",
   "execution_count": 27,
   "outputs": [
    {
     "name": "stdout",
     "text": [
      "Run 1/5\n",
      "Run 2/5\n",
      "Run 3/5\n",
      "Run 4/5\n",
      "Run 5/5\n"
     ],
     "output_type": "stream"
    }
   ],
   "source": [
    "accuracies = [] \n",
    "for run in range(runs):\n",
    "    print(\"Run %d/%d\" % (run+1, runs))\n",
    "    deep_sc = DeepSpectralClusteringAutoEncoder(784, lmbda=1e-2)\n",
    "    deep_sc.compile(optimizer=\"adam\", loss=lambda x, y: tf.zeros(784))\n",
    "    deep_sc.pre_train(x_train, batch_size=256, epochs=50, verbose=0)\n",
    "    deep_sc.train(x_train, batch_size=256, epochs=10, verbose=0)\n",
    "    accuracies.append(clustering_accuracy(y_train, deep_sc.assignments))\n",
    "accuracy_dict['accuracy:mean'].append(np.mean(accuracies))\n",
    "accuracy_dict['accuracy:std'].append(np.std(accuracies))\n",
    "names.append('Deep Spectral Clustering')"
   ],
   "metadata": {
    "collapsed": false,
    "pycharm": {
     "name": "#%%\n",
     "is_executing": false
    }
   }
  },
  {
   "cell_type": "code",
   "execution_count": 28,
   "outputs": [
    {
     "data": {
      "text/plain": "                          accuracy:mean  accuracy:std\nDeep K-Means                      0.588      0.011662\nDeep Spectral Clustering          0.588      0.041183",
      "text/html": "<div>\n<style scoped>\n    .dataframe tbody tr th:only-of-type {\n        vertical-align: middle;\n    }\n\n    .dataframe tbody tr th {\n        vertical-align: top;\n    }\n\n    .dataframe thead th {\n        text-align: right;\n    }\n</style>\n<table border=\"1\" class=\"dataframe\">\n  <thead>\n    <tr style=\"text-align: right;\">\n      <th></th>\n      <th>accuracy:mean</th>\n      <th>accuracy:std</th>\n    </tr>\n  </thead>\n  <tbody>\n    <tr>\n      <td>Deep K-Means</td>\n      <td>0.588</td>\n      <td>0.011662</td>\n    </tr>\n    <tr>\n      <td>Deep Spectral Clustering</td>\n      <td>0.588</td>\n      <td>0.041183</td>\n    </tr>\n  </tbody>\n</table>\n</div>"
     },
     "metadata": {},
     "output_type": "execute_result",
     "execution_count": 28
    }
   ],
   "source": [
    "pd.DataFrame(accuracy_dict, index=names)"
   ],
   "metadata": {
    "collapsed": false,
    "pycharm": {
     "name": "#%%\n",
     "is_executing": false
    }
   }
  }
 ],
 "metadata": {
  "kernelspec": {
   "display_name": "Python 3",
   "language": "python",
   "name": "python3"
  },
  "language_info": {
   "codemirror_mode": {
    "name": "ipython",
    "version": 2
   },
   "file_extension": ".py",
   "mimetype": "text/x-python",
   "name": "python",
   "nbconvert_exporter": "python",
   "pygments_lexer": "ipython2",
   "version": "2.7.6"
  },
  "pycharm": {
   "stem_cell": {
    "cell_type": "raw",
    "source": [],
    "metadata": {
     "collapsed": false
    }
   }
  }
 },
 "nbformat": 4,
 "nbformat_minor": 0
}