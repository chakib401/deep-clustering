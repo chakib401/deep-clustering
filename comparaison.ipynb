{
  "nbformat": 4,
  "nbformat_minor": 0,
  "metadata": {
    "kernelspec": {
      "name": "python3",
      "display_name": "Python 3"
    },
    "language_info": {
      "codemirror_mode": {
        "name": "ipython",
        "version": 2
      },
      "file_extension": ".py",
      "mimetype": "text/x-python",
      "name": "python",
      "nbconvert_exporter": "python",
      "pygments_lexer": "ipython2",
      "version": "2.7.6"
    },
    "pycharm": {
      "stem_cell": {
        "cell_type": "raw",
        "source": [],
        "metadata": {
          "collapsed": false
        }
      }
    },
    "colab": {
      "name": "comparaison.ipynb",
      "provenance": [],
      "collapsed_sections": []
    },
    "accelerator": "GPU"
  },
  "cells": [
    {
      "cell_type": "code",
      "metadata": {
        "id": "TEZrcQ6nGt9c",
        "colab_type": "code",
        "colab": {}
      },
      "source": [
        "import tensorflow as tf\n",
        "import numpy as np\n",
        "import pandas as pd\n",
        "from models.deep_km import DeepKMeansAutoEncoder\n",
        "from models.deep_spectral_clustering import DeepSpectralClusteringAutoEncoder\n",
        "from models.seq_ae_km import SeqAutoEncoderKMeans\n",
        "from models.utils import clustering_accuracy\n",
        "from sklearn.datasets import load_digits "
      ],
      "execution_count": 0,
      "outputs": []
    },
    {
      "cell_type": "code",
      "metadata": {
        "pycharm": {
          "is_executing": false
        },
        "id": "dFR9pg5VFsJV",
        "colab_type": "code",
        "colab": {}
      },
      "source": [
        "x_train, y_train = tf.keras.datasets.mnist.load_data()[0]\n",
        "x_train = x_train.reshape((-1, 28*28))\n",
        "x_train = x_train / 255"
      ],
      "execution_count": 0,
      "outputs": []
    },
    {
      "cell_type": "code",
      "metadata": {
        "pycharm": {
          "name": "#%%\n",
          "is_executing": false
        },
        "id": "rzuYhwCHFsJZ",
        "colab_type": "code",
        "colab": {}
      },
      "source": [
        "runs = 10\n",
        "accuracy_dict = {\"accuracy:mean\":[], \"accuracy:std\":[]}\n",
        "names = []\n",
        "input_dim = 28*28"
      ],
      "execution_count": 0,
      "outputs": []
    },
    {
      "cell_type": "code",
      "metadata": {
        "pycharm": {
          "name": "#%%\n",
          "is_executing": false
        },
        "id": "x-V8e4NWFsJc",
        "colab_type": "code",
        "outputId": "3218812d-38de-4a62-a972-6e0fb7ef847a",
        "colab": {
          "base_uri": "https://localhost:8080/",
          "height": 204
        }
      },
      "source": [
        "accuracies = [] \n",
        "for run in range(runs):\n",
        "    print(\"Run %d/%d\" % (run+1, runs))\n",
        "    seq_ae_km = SeqAutoEncoderKMeans(input_dim)\n",
        "    seq_ae_km.compile(optimizer=\"adam\", loss=lambda x, y: tf.zeros(input_dim))\n",
        "    seq_ae_km.train(x_train, batch_size=256, epochs=60, verbose=0)\n",
        "    accuracies.append(clustering_accuracy(y_train, seq_ae_km.assignments))\n",
        "accuracy_dict['accuracy:mean'].append(np.mean(accuracies))\n",
        "accuracy_dict['accuracy:std'].append(np.std(accuracies))\n",
        "names.append('AutoEncoder + K-Means')\n",
        "print('%.2f ± %.2f' % (np.mean(accuracies), np.std(accuracies)))"
      ],
      "execution_count": 0,
      "outputs": [
        {
          "output_type": "stream",
          "text": [
            "Run 1/10\n",
            "Run 2/10\n",
            "Run 3/10\n",
            "Run 4/10\n",
            "Run 5/10\n",
            "Run 6/10\n",
            "Run 7/10\n",
            "Run 8/10\n",
            "Run 9/10\n",
            "Run 10/10\n",
            "0.79 ± 0.02\n"
          ],
          "name": "stdout"
        }
      ]
    },
    {
      "cell_type": "code",
      "metadata": {
        "pycharm": {
          "name": "#%%\n",
          "is_executing": false
        },
        "id": "hDaATl8EFsJh",
        "colab_type": "code",
        "outputId": "37b262d3-cf61-478f-f39a-9b8bba8a30e7",
        "colab": {
          "base_uri": "https://localhost:8080/",
          "height": 204
        }
      },
      "source": [
        "accuracies = [] \n",
        "for run in range(runs):\n",
        "    print(\"Run %d/%d\" % (run+1, runs))\n",
        "    deep_km = DeepKMeansAutoEncoder(input_dim, lmbda=1)\n",
        "    deep_km.compile(optimizer=\"adam\", loss=lambda x, y: tf.zeros(input_dim))\n",
        "    deep_km.pre_train(x_train, batch_size=256, epochs=50, verbose=0)\n",
        "    deep_km.train(x_train, batch_size=256, epochs=10, verbose=0)\n",
        "    accuracies.append(clustering_accuracy(y_train, deep_km.assignments))\n",
        "accuracy_dict['accuracy:mean'].append(np.mean(accuracies))\n",
        "accuracy_dict['accuracy:std'].append(np.std(accuracies))\n",
        "names.append('Deep K-Means')\n",
        "print('%.2f ± %.2f' % (np.mean(accuracies), np.std(accuracies)))"
      ],
      "execution_count": 0,
      "outputs": [
        {
          "output_type": "stream",
          "text": [
            "Run 1/10\n",
            "Run 2/10\n",
            "Run 3/10\n",
            "Run 4/10\n",
            "Run 5/10\n",
            "Run 6/10\n",
            "Run 7/10\n",
            "Run 8/10\n",
            "Run 9/10\n",
            "Run 10/10\n",
            "0.79 ± 0.02\n"
          ],
          "name": "stdout"
        }
      ]
    },
    {
      "cell_type": "code",
      "metadata": {
        "pycharm": {
          "name": "#%%\n",
          "is_executing": false
        },
        "id": "bQNjWVTtFsJm",
        "colab_type": "code",
        "outputId": "b21c9292-d4ef-4827-ec78-4c8d8d05ce18",
        "colab": {
          "base_uri": "https://localhost:8080/",
          "height": 204
        }
      },
      "source": [
        "accuracies = [] \n",
        "for run in range(runs):\n",
        "    print(\"Run %d/%d\" % (run+1, runs))\n",
        "    deep_sc = DeepSpectralClusteringAutoEncoder(input_dim, lmbda=1)\n",
        "    deep_sc.compile(optimizer=\"adam\", loss=lambda x, y: tf.zeros(input_dim))\n",
        "    deep_sc.pre_train(x_train, batch_size=256, epochs=50, verbose=0)\n",
        "    deep_sc.train(x_train, batch_size=256, epochs=10, verbose=0)\n",
        "    accuracies.append(clustering_accuracy(y_train, deep_sc.assignments))\n",
        "accuracy_dict['accuracy:mean'].append(np.mean(accuracies))\n",
        "accuracy_dict['accuracy:std'].append(np.std(accuracies))\n",
        "names.append('Deep Spectral Clustering')\n",
        "print('%.2f ± %.2f' % (np.mean(accuracies), np.std(accuracies)))"
      ],
      "execution_count": 0,
      "outputs": [
        {
          "output_type": "stream",
          "text": [
            "Run 1/10\n",
            "Run 2/10\n",
            "Run 3/10\n",
            "Run 4/10\n",
            "Run 5/10\n",
            "Run 6/10\n",
            "Run 7/10\n",
            "Run 8/10\n",
            "Run 9/10\n",
            "Run 10/10\n",
            "0.85 ± 0.03\n"
          ],
          "name": "stdout"
        }
      ]
    },
    {
      "cell_type": "code",
      "metadata": {
        "pycharm": {
          "name": "#%%\n",
          "is_executing": false
        },
        "id": "YwJgmgD2FsJt",
        "colab_type": "code",
        "colab": {
          "base_uri": "https://localhost:8080/",
          "height": 142
        },
        "outputId": "a32b073b-dd0a-4522-b530-51427c62afad"
      },
      "source": [
        "pd.DataFrame(accuracy_dict, index=names).round(3)\n"
      ],
      "execution_count": 13,
      "outputs": [
        {
          "output_type": "execute_result",
          "data": {
            "text/html": [
              "<div>\n",
              "<style scoped>\n",
              "    .dataframe tbody tr th:only-of-type {\n",
              "        vertical-align: middle;\n",
              "    }\n",
              "\n",
              "    .dataframe tbody tr th {\n",
              "        vertical-align: top;\n",
              "    }\n",
              "\n",
              "    .dataframe thead th {\n",
              "        text-align: right;\n",
              "    }\n",
              "</style>\n",
              "<table border=\"1\" class=\"dataframe\">\n",
              "  <thead>\n",
              "    <tr style=\"text-align: right;\">\n",
              "      <th></th>\n",
              "      <th>accuracy:mean</th>\n",
              "      <th>accuracy:std</th>\n",
              "    </tr>\n",
              "  </thead>\n",
              "  <tbody>\n",
              "    <tr>\n",
              "      <th>AutoEncoder + K-Means</th>\n",
              "      <td>0.795</td>\n",
              "      <td>0.020</td>\n",
              "    </tr>\n",
              "    <tr>\n",
              "      <th>Deep K-Means</th>\n",
              "      <td>0.790</td>\n",
              "      <td>0.016</td>\n",
              "    </tr>\n",
              "    <tr>\n",
              "      <th>Deep Spectral Clustering</th>\n",
              "      <td>0.845</td>\n",
              "      <td>0.033</td>\n",
              "    </tr>\n",
              "  </tbody>\n",
              "</table>\n",
              "</div>"
            ],
            "text/plain": [
              "                          accuracy:mean  accuracy:std\n",
              "AutoEncoder + K-Means             0.795         0.020\n",
              "Deep K-Means                      0.790         0.016\n",
              "Deep Spectral Clustering          0.845         0.033"
            ]
          },
          "metadata": {
            "tags": []
          },
          "execution_count": 13
        }
      ]
    }
  ]
}