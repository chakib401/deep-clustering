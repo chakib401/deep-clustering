{
 "cells": [
  {
   "cell_type": "code",
   "execution_count": 1,
   "outputs": [],
   "source": [
    "import tensorflow as tf\n",
    "import numpy as np\n",
    "import pandas as pd\n",
    "from models.deep_km import DeepKMeansAutoEncoder\n",
    "from models.deep_spectral_clustering import DeepSpectralClusteringAutoEncoder\n",
    "from models.seq_ae_km import SeqAutoEncoderKMeans\n",
    "from models.utils import clustering_accuracy\n",
    "from sklearn.datasets import load_digits "
   ],
   "metadata": {
    "collapsed": false,
    "pycharm": {
     "name": "#%%\n",
     "is_executing": false
    }
   }
  },
  {
   "cell_type": "code",
   "execution_count": 2,
   "metadata": {
    "collapsed": true,
    "pycharm": {
     "is_executing": false
    }
   },
   "outputs": [],
   "source": [
    "x_train, y_train = load_digits(n_class=10, return_X_y=True)\n",
    "x_train/=16"
   ]
  },
  {
   "cell_type": "code",
   "execution_count": 3,
   "outputs": [],
   "source": [
    "runs = 10\n",
    "accuracy_dict = {\"accuracy:mean\":[], \"accuracy:std\":[]}\n",
    "names = []\n",
    "input_dim = 64"
   ],
   "metadata": {
    "collapsed": false,
    "pycharm": {
     "name": "#%%\n",
     "is_executing": false
    }
   }
  },
  {
   "cell_type": "code",
   "execution_count": 4,
   "outputs": [
    {
     "name": "stdout",
     "text": [
      "Run 1/10\n",
      "Run 2/10\n",
      "Run 3/10\n",
      "Run 4/10\n",
      "Run 5/10\n",
      "Run 6/10\n",
      "Run 7/10\n",
      "Run 8/10\n",
      "Run 9/10\n",
      "Run 10/10\n",
      "0.76 ± 0.03\n"
     ],
     "output_type": "stream"
    }
   ],
   "source": [
    "accuracies = [] \n",
    "for run in range(runs):\n",
    "    print(\"Run %d/%d\" % (run+1, runs))\n",
    "    seq_ae_km = SeqAutoEncoderKMeans(input_dim)\n",
    "    seq_ae_km.compile(optimizer=\"adam\", loss=lambda x, y: tf.zeros(input_dim))\n",
    "    seq_ae_km.train(x_train, batch_size=256, epochs=60, verbose=0)\n",
    "    accuracies.append(clustering_accuracy(y_train, seq_ae_km.assignments))\n",
    "accuracy_dict['accuracy:mean'].append(np.mean(accuracies))\n",
    "accuracy_dict['accuracy:std'].append(np.std(accuracies))\n",
    "names.append('AutoEncoder + K-Means')\n",
    "print('%.2f ± %.2f' % (np.mean(accuracies), np.std(accuracies)))"
   ],
   "metadata": {
    "collapsed": false,
    "pycharm": {
     "name": "#%%\n",
     "is_executing": false
    }
   }
  },
  {
   "cell_type": "code",
   "execution_count": 5,
   "outputs": [
    {
     "name": "stdout",
     "text": [
      "Run 1/10\n",
      "Run 2/10\n",
      "Run 3/10\n",
      "Run 4/10\n",
      "Run 5/10\n",
      "Run 6/10\n",
      "Run 7/10\n",
      "Run 8/10\n",
      "Run 9/10\n",
      "Run 10/10\n",
      "0.78 ± 0.01\n"
     ],
     "output_type": "stream"
    }
   ],
   "source": [
    "accuracies = [] \n",
    "for run in range(runs):\n",
    "    print(\"Run %d/%d\" % (run+1, runs))\n",
    "    deep_km = DeepKMeansAutoEncoder(input_dim, lmbda=1)\n",
    "    deep_km.compile(optimizer=\"adam\", loss=lambda x, y: tf.zeros(input_dim))\n",
    "    deep_km.pre_train(x_train, batch_size=256, epochs=50, verbose=0)\n",
    "    deep_km.train(x_train, batch_size=256, epochs=10, verbose=0)\n",
    "    accuracies.append(clustering_accuracy(y_train, deep_km.assignments))\n",
    "accuracy_dict['accuracy:mean'].append(np.mean(accuracies))\n",
    "accuracy_dict['accuracy:std'].append(np.std(accuracies))\n",
    "names.append('Deep K-Means')\n",
    "print('%.2f ± %.2f' % (np.mean(accuracies), np.std(accuracies)))"
   ],
   "metadata": {
    "collapsed": false,
    "pycharm": {
     "name": "#%%\n",
     "is_executing": false
    }
   }
  },
  {
   "cell_type": "code",
   "execution_count": 6,
   "outputs": [
    {
     "name": "stdout",
     "text": [
      "Run 1/10\n",
      "Run 2/10\n",
      "Run 3/10\n",
      "Run 4/10\n",
      "Run 5/10\n",
      "Run 6/10\n",
      "Run 7/10\n",
      "Run 8/10\n",
      "Run 9/10\n",
      "Run 10/10\n",
      "0.82 ± 0.02\n"
     ],
     "output_type": "stream"
    }
   ],
   "source": [
    "accuracies = [] \n",
    "for run in range(runs):\n",
    "    print(\"Run %d/%d\" % (run+1, runs))\n",
    "    deep_sc = DeepSpectralClusteringAutoEncoder(input_dim, lmbda=1)\n",
    "    deep_sc.compile(optimizer=\"adam\", loss=lambda x, y: tf.zeros(input_dim))\n",
    "    deep_sc.pre_train(x_train, batch_size=256, epochs=50, verbose=0)\n",
    "    deep_sc.train(x_train, batch_size=256, epochs=10, verbose=0)\n",
    "    accuracies.append(clustering_accuracy(y_train, deep_sc.assignments))\n",
    "accuracy_dict['accuracy:mean'].append(np.mean(accuracies))\n",
    "accuracy_dict['accuracy:std'].append(np.std(accuracies))\n",
    "names.append('Deep Spectral Clustering')\n",
    "print('%.2f ± %.2f' % (np.mean(accuracies), np.std(accuracies)))"
   ],
   "metadata": {
    "collapsed": false,
    "pycharm": {
     "name": "#%%\n",
     "is_executing": false
    }
   }
  },
  {
   "cell_type": "code",
   "execution_count": 7,
   "outputs": [
    {
     "name": "stdout",
     "text": [
      "Run 1/10\n",
      "Run 2/10\n",
      "Run 3/10\n",
      "Run 4/10\n",
      "Run 5/10\n",
      "Run 6/10\n",
      "Run 7/10\n",
      "Run 8/10\n",
      "Run 9/10\n",
      "Run 10/10\n",
      "0.79 ± 0.04\n"
     ],
     "output_type": "stream"
    }
   ],
   "source": [
    "accuracies = [] \n",
    "for run in range(runs):\n",
    "    print(\"Run %d/%d\" % (run+1, runs))\n",
    "    deep_sc = DeepSpectralClusteringAutoEncoder(input_dim, lmbda=1, normalize=True)\n",
    "    deep_sc.compile(optimizer=\"adam\", loss=lambda x, y: tf.zeros(input_dim))\n",
    "    deep_sc.pre_train(x_train, batch_size=256, epochs=50, verbose=0)\n",
    "    deep_sc.train(x_train, batch_size=256, epochs=10, verbose=0)\n",
    "    accuracies.append(clustering_accuracy(y_train, deep_sc.assignments))\n",
    "accuracy_dict['accuracy:mean'].append(np.mean(accuracies))\n",
    "accuracy_dict['accuracy:std'].append(np.std(accuracies))\n",
    "names.append('Deep Spectral Clustering with Normalization')\n",
    "print('%.2f ± %.2f' % (np.mean(accuracies), np.std(accuracies)))"
   ],
   "metadata": {
    "collapsed": false,
    "pycharm": {
     "name": "#%%\n",
     "is_executing": false
    }
   }
  },
  {
   "cell_type": "code",
   "execution_count": 8,
   "outputs": [
    {
     "data": {
      "text/plain": "                                             accuracy:mean  accuracy:std\nAutoEncoder + K-Means                                0.763         0.034\nDeep K-Means                                         0.784         0.013\nDeep Spectral Clustering                             0.822         0.018\nDeep Spectral Clustering with Normalization          0.790         0.043",
      "text/html": "<div>\n<style scoped>\n    .dataframe tbody tr th:only-of-type {\n        vertical-align: middle;\n    }\n\n    .dataframe tbody tr th {\n        vertical-align: top;\n    }\n\n    .dataframe thead th {\n        text-align: right;\n    }\n</style>\n<table border=\"1\" class=\"dataframe\">\n  <thead>\n    <tr style=\"text-align: right;\">\n      <th></th>\n      <th>accuracy:mean</th>\n      <th>accuracy:std</th>\n    </tr>\n  </thead>\n  <tbody>\n    <tr>\n      <td>AutoEncoder + K-Means</td>\n      <td>0.763</td>\n      <td>0.034</td>\n    </tr>\n    <tr>\n      <td>Deep K-Means</td>\n      <td>0.784</td>\n      <td>0.013</td>\n    </tr>\n    <tr>\n      <td>Deep Spectral Clustering</td>\n      <td>0.822</td>\n      <td>0.018</td>\n    </tr>\n    <tr>\n      <td>Deep Spectral Clustering with Normalization</td>\n      <td>0.790</td>\n      <td>0.043</td>\n    </tr>\n  </tbody>\n</table>\n</div>"
     },
     "metadata": {},
     "output_type": "execute_result",
     "execution_count": 8
    }
   ],
   "source": [
    "pd.DataFrame(accuracy_dict, index=names).round(3)\n"
   ],
   "metadata": {
    "collapsed": false,
    "pycharm": {
     "name": "#%%\n",
     "is_executing": false
    }
   }
  }
 ],
 "metadata": {
  "kernelspec": {
   "display_name": "Python 3",
   "language": "python",
   "name": "python3"
  },
  "language_info": {
   "codemirror_mode": {
    "name": "ipython",
    "version": 2
   },
   "file_extension": ".py",
   "mimetype": "text/x-python",
   "name": "python",
   "nbconvert_exporter": "python",
   "pygments_lexer": "ipython2",
   "version": "2.7.6"
  },
  "pycharm": {
   "stem_cell": {
    "cell_type": "raw",
    "source": [],
    "metadata": {
     "collapsed": false
    }
   }
  }
 },
 "nbformat": 4,
 "nbformat_minor": 0
}